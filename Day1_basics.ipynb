{
 "cells": [
  {
   "cell_type": "code",
   "execution_count": 1,
   "id": "8f57d665-6335-4b87-b880-ad0e21fdcb89",
   "metadata": {},
   "outputs": [
    {
     "name": "stdout",
     "output_type": "stream",
     "text": [
      "Hello! Divyanshu😁, welcome to your Data Analyst Journey\n"
     ]
    }
   ],
   "source": [
    "#day 1: my first python code\n",
    "print(\"Hello! Divyanshu😁, welcome to your Data Analyst Journey\")"
   ]
  },
  {
   "cell_type": "markdown",
   "id": "4105886d-0838-46e9-99ef-415acf39ee71",
   "metadata": {},
   "source": [
    "#day 1\n",
    "- downloading several things\n",
    "- starting new journey firm 17 july 2025"
   ]
  },
  {
   "cell_type": "code",
   "execution_count": null,
   "id": "52ff0a87-7fe4-4c5a-b209-6f243e905f43",
   "metadata": {},
   "outputs": [],
   "source": []
  }
 ],
 "metadata": {
  "kernelspec": {
   "display_name": "Python 3 (ipykernel)",
   "language": "python",
   "name": "python3"
  },
  "language_info": {
   "codemirror_mode": {
    "name": "ipython",
    "version": 3
   },
   "file_extension": ".py",
   "mimetype": "text/x-python",
   "name": "python",
   "nbconvert_exporter": "python",
   "pygments_lexer": "ipython3",
   "version": "3.13.5"
  }
 },
 "nbformat": 4,
 "nbformat_minor": 5
}
