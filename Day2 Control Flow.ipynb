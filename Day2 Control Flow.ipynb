{
 "cells": [
  {
   "cell_type": "markdown",
   "id": "f1de90b4-0d2c-45f4-9592-f1ff8c34b8df",
   "metadata": {},
   "source": [
    "#today i'm going to learn list, if-elif-else, loop"
   ]
  },
  {
   "cell_type": "code",
   "execution_count": 3,
   "id": "03316aaf-e09b-4116-b2c9-ab447e0988b5",
   "metadata": {},
   "outputs": [
    {
     "name": "stdin",
     "output_type": "stream",
     "text": [
      "Name your 1st Favourite movie: qwerty\n",
      "Name your 2nd Favourite movie: asdf\n",
      "Name your 3rd Favourite movie: zxcv\n"
     ]
    },
    {
     "name": "stdout",
     "output_type": "stream",
     "text": [
      "List of your favourite movies ['qwerty', 'asdf', 'zxcv']\n"
     ]
    }
   ],
   "source": [
    "#lists\n",
    "\n",
    "nam1=input(\"Name your 1st Favourite movie:\")\n",
    "nam2=input(\"Name your 2nd Favourite movie:\")\n",
    "nam3=input(\"Name your 3rd Favourite movie:\")\n",
    "\n",
    "List = [nam1,nam2,nam3]\n",
    "print(\"List of your favourite movies\",List)"
   ]
  },
  {
   "cell_type": "code",
   "execution_count": 4,
   "id": "edf7a4d1-a107-4341-bbb1-7e9f34824384",
   "metadata": {},
   "outputs": [
    {
     "name": "stdout",
     "output_type": "stream",
     "text": [
      "qwerty\n",
      "['qwerty']\n"
     ]
    }
   ],
   "source": [
    "#list indexing and list slicing\n",
    "print(List[0])\n",
    "print(List[0:1])"
   ]
  },
  {
   "cell_type": "code",
   "execution_count": 12,
   "id": "31ee9f8b-ecb7-471a-b13a-bf6414374190",
   "metadata": {},
   "outputs": [
    {
     "name": "stdin",
     "output_type": "stream",
     "text": [
      "Enter marks obtained 19\n"
     ]
    },
    {
     "name": "stdout",
     "output_type": "stream",
     "text": [
      "Grade of student: D\n"
     ]
    }
   ],
   "source": [
    "#if-elif-else\n",
    "marks = int(input(\"Enter marks obtained\"))\n",
    "if(marks<=100 and marks>=85):\n",
    "    Grade=\"A\"\n",
    "elif marks>=60:\n",
    "    Grade=\"B\"\n",
    "elif marks>=30:\n",
    "    Grade=\"C\"\n",
    "else:\n",
    "    Grade=\"D\"\n",
    "print(\"Grade of student:\", Grade)"
   ]
  },
  {
   "cell_type": "code",
   "execution_count": null,
   "id": "bc9aa4ac-d382-441b-8523-6846eb4208a2",
   "metadata": {},
   "outputs": [],
   "source": [
    "#loop\n"
   ]
  },
  {
   "cell_type": "code",
   "execution_count": 13,
   "id": "64aeac91-9a12-42d0-adcb-03fe25c9ff80",
   "metadata": {},
   "outputs": [
    {
     "name": "stdin",
     "output_type": "stream",
     "text": [
      "Math marks:  85\n",
      "Stats marks:  92\n",
      "Python marks:  57\n"
     ]
    },
    {
     "name": "stdout",
     "output_type": "stream",
     "text": [
      "Total: 234\n",
      "Average: 78.0\n",
      "Grade: B\n"
     ]
    }
   ],
   "source": [
    "# Student Grade Calculator\n",
    "m1 = int(input(\"Math marks: \"))\n",
    "m2 = int(input(\"Stats marks: \"))\n",
    "m3 = int(input(\"Python marks: \"))\n",
    "\n",
    "total = m1 + m2 + m3\n",
    "avg = total / 3\n",
    "\n",
    "if avg >= 90:\n",
    "    grade = \"A\"\n",
    "elif avg >= 75:\n",
    "    grade = \"B\"\n",
    "elif avg >= 60:\n",
    "    grade = \"C\"\n",
    "else:\n",
    "    grade = \"F\"\n",
    "\n",
    "print(\"Total:\", total)\n",
    "print(\"Average:\", avg)\n",
    "print(\"Grade:\", grade)"
   ]
  },
  {
   "cell_type": "code",
   "execution_count": null,
   "id": "67bc6008-cde4-4b1e-832d-2ba826ad3713",
   "metadata": {},
   "outputs": [],
   "source": []
  }
 ],
 "metadata": {
  "kernelspec": {
   "display_name": "Python 3 (ipykernel)",
   "language": "python",
   "name": "python3"
  },
  "language_info": {
   "codemirror_mode": {
    "name": "ipython",
    "version": 3
   },
   "file_extension": ".py",
   "mimetype": "text/x-python",
   "name": "python",
   "nbconvert_exporter": "python",
   "pygments_lexer": "ipython3",
   "version": "3.13.5"
  }
 },
 "nbformat": 4,
 "nbformat_minor": 5
}
