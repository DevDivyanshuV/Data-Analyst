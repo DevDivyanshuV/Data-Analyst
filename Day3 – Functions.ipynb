{
 "cells": [
  {
   "cell_type": "code",
   "execution_count": 1,
   "id": "bc10f7e2-7daf-4c19-aa72-9f5fa21d5254",
   "metadata": {},
   "outputs": [
    {
     "name": "stdout",
     "output_type": "stream",
     "text": [
      "4\n",
      "8\n"
     ]
    }
   ],
   "source": [
    "# functions\n",
    "# functions for define length of a list\n",
    "def len_list (list):\n",
    "    print(len(list))\n",
    "\n",
    "alpha=[\"a\",\"b\",\"c\",\"d\"]\n",
    "nums=[5,34,2.5,6,3,543,634,234]\n",
    "\n",
    "len_list(alpha)\n",
    "len_list(nums)"
   ]
  },
  {
   "cell_type": "code",
   "execution_count": 10,
   "id": "1b917e69-5f22-417c-b951-4029b02ba1da",
   "metadata": {},
   "outputs": [
    {
     "name": "stdout",
     "output_type": "stream",
     "text": [
      "120\n"
     ]
    }
   ],
   "source": [
    "# writing a function to find the factorial of 'n'\n",
    "def fac(n):\n",
    "    fact=1\n",
    "    for i in range(1,n+1):\n",
    "        fact*=i\n",
    "    print(fact)\n",
    "\n",
    "fac(5)"
   ]
  },
  {
   "cell_type": "code",
   "execution_count": 13,
   "id": "74be9bbb-e2f8-4715-b1bc-ebb843772c4e",
   "metadata": {},
   "outputs": [
    {
     "name": "stdin",
     "output_type": "stream",
     "text": [
      "Enter your age:  52\n",
      "Enter your monthly income:  100000\n",
      "Enter your credit score:  850\n"
     ]
    },
    {
     "name": "stdout",
     "output_type": "stream",
     "text": [
      "Loan Status: Eligible\n"
     ]
    }
   ],
   "source": [
    "# defining a function to check Loan eligibilty\n",
    "def check_egl(age, income,credit_score):\n",
    "    if age >= 21 and income >= 25000 and credit_score >= 700:\n",
    "        return \"Eligible\"\n",
    "    else:\n",
    "        return \"Not Eligible\"\n",
    "\n",
    "age = int(input(\"Enter your age: \"))\n",
    "income = int(input(\"Enter your monthly income: \"))\n",
    "credit_score = int(input(\"Enter your credit score: \"))\n",
    "\n",
    "result = check_egl(age, income, credit_score)\n",
    "print(\"Loan Status:\", result)"
   ]
  },
  {
   "cell_type": "code",
   "execution_count": null,
   "id": "26ca14a7-31ab-4f40-9939-4835e4bb5cfb",
   "metadata": {},
   "outputs": [],
   "source": []
  }
 ],
 "metadata": {
  "kernelspec": {
   "display_name": "Python 3 (ipykernel)",
   "language": "python",
   "name": "python3"
  },
  "language_info": {
   "codemirror_mode": {
    "name": "ipython",
    "version": 3
   },
   "file_extension": ".py",
   "mimetype": "text/x-python",
   "name": "python",
   "nbconvert_exporter": "python",
   "pygments_lexer": "ipython3",
   "version": "3.13.5"
  }
 },
 "nbformat": 4,
 "nbformat_minor": 5
}
